{
 "cells": [
  {
   "cell_type": "code",
   "execution_count": null,
   "metadata": {},
   "outputs": [],
   "source": [
    "import numpy as np\n",
    "import numpy_financial as npf\n",
    "from numba import jit\n",
    "import time\n",
    "import matplotlib.pyplot as plt"
   ]
  },
  {
   "cell_type": "code",
   "execution_count": null,
   "metadata": {},
   "outputs": [],
   "source": [
    "np.random.normal(loc=0.0, scale=1, size=(3,2,4))"
   ]
  },
  {
   "cell_type": "markdown",
   "metadata": {},
   "source": [
    "**Initialise parameters**\n",
    "- $100mio USD IRS notional - client pays 6m libor, receives 6m fix\n",
    "- 5Y tenor to maturity (hence 60 discrete months)\n",
    "- current 6M USD Libor = 3\\% (assumes USD Libor term structure is flat, LIBOR resets every 6M upon which IRS is revalued)\n",
    "\n",
    "For PFE monte-carlo simulation model using Euler stoch discretisation\n",
    "- assume no drift to interest rate\n",
    "- assume volatility in next 5Y will average 15\\%\n",
    "- time step is 1 month or 1/12 year"
   ]
  },
  {
   "cell_type": "code",
   "execution_count": null,
   "metadata": {},
   "outputs": [],
   "source": [
    "notional = 100\n",
    "tenor = 5\n",
    "T = tenor*12\n",
    "reset_steps = 6\n",
    "fixed_rate = 0.05\n",
    "\n",
    "stoch_drift = 0\n",
    "stoch_vol = 0.15\n",
    "t_delta = 1/12"
   ]
  },
  {
   "cell_type": "markdown",
   "metadata": {},
   "source": [
    "**Generate z shocks**\n",
    "- 1000 pass of shocks drawn from normal distribution, assumes future risk is symmetrical and porportional to (endogenous) historical vol\n",
    "- each pass has 60 business days ahead"
   ]
  },
  {
   "cell_type": "code",
   "execution_count": null,
   "metadata": {},
   "outputs": [],
   "source": [
    "npass = 1000\n",
    "\n",
    "shocks = np.random.normal(loc=0.0, scale=stoch_vol, size=(npass, T))\n",
    "shocks[:,0] = 0\n",
    "shocks.shape"
   ]
  },
  {
   "cell_type": "markdown",
   "metadata": {},
   "source": [
    "Generate forward market factor path with simulated shocks"
   ]
  },
  {
   "cell_type": "code",
   "execution_count": null,
   "metadata": {},
   "outputs": [],
   "source": [
    "rates = np.zeros(shocks.shape)\n",
    "rates[:,0] = fixed_rate"
   ]
  },
  {
   "cell_type": "markdown",
   "metadata": {},
   "source": [
    "Compare numba JIT speed improvement"
   ]
  },
  {
   "cell_type": "code",
   "execution_count": null,
   "metadata": {},
   "outputs": [],
   "source": [
    "def sim_path(rates, shocks, npass, T, mu, sig, t) -> np.ndarray:\n",
    "    for i in range(0,npass,1):\n",
    "        for step in range(1,T,1):\n",
    "            z_shock = shocks[i,step]\n",
    "            rates[i,step] = rates[i,step-1] + rates[i,step-1]*(mu*t + sig*np.sqrt(t)*z_shock)\n",
    "    return rates\n",
    "\n",
    "@jit(nopython=True)\n",
    "def osim_path(rates, shocks, npass, T, mu, sig, t) -> np.ndarray:\n",
    "    for i in range(0,npass,1):\n",
    "        for step in range(1,T,1):\n",
    "            z_shock = shocks[i,step]\n",
    "            rates[i,step] = rates[i,step-1] + rates[i,step-1]*(mu*t + sig*np.sqrt(t)*z_shock)\n",
    "    return rates"
   ]
  },
  {
   "cell_type": "code",
   "execution_count": null,
   "metadata": {},
   "outputs": [],
   "source": [
    "start = time.time()\n",
    "rates = sim_path(rates, shocks, \n",
    "                 npass, T,\n",
    "                 mu=stoch_drift, sig=stoch_vol, t=t_delta)\n",
    "end = time.time()\n",
    "\n",
    "print(\"Elapsed (with compilation) = {:.30f}\".format(end - start))"
   ]
  },
  {
   "cell_type": "code",
   "execution_count": null,
   "metadata": {},
   "outputs": [],
   "source": [
    "start = time.time()\n",
    "rates = osim_path(rates, shocks, \n",
    "                 npass, T,\n",
    "                 mu=stoch_drift, sig=stoch_vol, t=t_delta)\n",
    "end = time.time()\n",
    "\n",
    "print(\"Elapsed (with compilation) = {:.30f}\".format(end - start))"
   ]
  },
  {
   "cell_type": "code",
   "execution_count": null,
   "metadata": {},
   "outputs": [],
   "source": [
    "rates"
   ]
  },
  {
   "cell_type": "code",
   "execution_count": null,
   "metadata": {},
   "outputs": [],
   "source": [
    "time_step = np.arange(0,T,1)\n",
    "N = np.floor(((T-1)*np.ones(T) - time_step)/reset_steps)\n",
    "N"
   ]
  },
  {
   "cell_type": "code",
   "execution_count": null,
   "metadata": {},
   "outputs": [],
   "source": [
    "discount_remaining_tenor = -((( (T-1)*np.ones(T) - time_step)/reset_steps)+N)\n",
    "discount_remaining_tenor"
   ]
  },
  {
   "cell_type": "markdown",
   "metadata": {},
   "source": [
    "From bank perspective, bank's pays 6m fix/receive 6m Libor\n",
    "\n",
    "-PV[(float/2,PV_N,notional*(fix-float)/2] * (1+float/2)^discount_remaining_tenor"
   ]
  },
  {
   "cell_type": "code",
   "execution_count": null,
   "metadata": {},
   "outputs": [],
   "source": [
    "# npf.pv(rate, nper, pmt, fv=0, when='end')\n",
    "def calc_IRS_NPV(notional, fixed_rate, rates, N, discount_remaining_tenor):\n",
    "    npv = np.zeros(rates.shape)\n",
    "    for i in range(0,npass,1):\n",
    "        for step in range(0,T,1):\n",
    "            float_rate = rates[i,step]\n",
    "            nper, ndisc = N[step], discount_remaining_tenor[step]\n",
    "            npv[i,step] = npf.pv(float_rate/2, nper, notional*(fixed_rate - float_rate)/2)*(1+float_rate/2)**ndisc\n",
    "    return npv"
   ]
  },
  {
   "cell_type": "code",
   "execution_count": null,
   "metadata": {},
   "outputs": [],
   "source": [
    "npv = calc_IRS_NPV(notional, fixed_rate, rates, N, discount_remaining_tenor)\n",
    "npv[0]"
   ]
  },
  {
   "cell_type": "code",
   "execution_count": null,
   "metadata": {},
   "outputs": [],
   "source": [
    "pfe = np.maximum(npv, np.zeros(rates.shape))\n",
    "epe = np.percentile(pfe,99,axis=0)\n",
    "epe"
   ]
  },
  {
   "cell_type": "code",
   "execution_count": null,
   "metadata": {},
   "outputs": [],
   "source": [
    "plt.plot(epe)\n",
    "plt.show()"
   ]
  },
  {
   "cell_type": "code",
   "execution_count": null,
   "metadata": {},
   "outputs": [],
   "source": []
  }
 ],
 "metadata": {
  "kernelspec": {
   "display_name": "Python 3",
   "language": "python",
   "name": "python3"
  },
  "language_info": {
   "codemirror_mode": {
    "name": "ipython",
    "version": 3
   },
   "file_extension": ".py",
   "mimetype": "text/x-python",
   "name": "python",
   "nbconvert_exporter": "python",
   "pygments_lexer": "ipython3",
   "version": "3.8.5"
  }
 },
 "nbformat": 4,
 "nbformat_minor": 4
}
